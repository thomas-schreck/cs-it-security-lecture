{
 "cells": [
  {
   "cell_type": "markdown",
   "id": "b18858ce",
   "metadata": {},
   "source": [
    "# IT-Sicherheit"
   ]
  },
  {
   "cell_type": "markdown",
   "id": "3fbeda11",
   "metadata": {},
   "source": [
    "## 1. Einführung"
   ]
  },
  {
   "cell_type": "markdown",
   "id": "358f04ca",
   "metadata": {},
   "source": [
    "* [Motivation](introduction/motivation.ipynb)\n",
    "* [Angreifer](introduction/attackers.ipynb)"
   ]
  },
  {
   "cell_type": "markdown",
   "id": "c62df52c",
   "metadata": {},
   "source": [
    "# Literature"
   ]
  },
  {
   "cell_type": "markdown",
   "id": "2e1d3a10",
   "metadata": {},
   "source": [
    "**Copyright**\n",
    "\n",
    "The notebooks are provided as [Open Educational Resources](https://en.wikipedia.org/wiki/Open_educational_resources). Feel free to use the notebooks for your own purposes. The text is licensed under [Creative Commons Attribution 4.0](https://creativecommons.org/licenses/by/4.0/), the code of the IPython examples under the [MIT license](https://opensource.org/licenses/MIT). Please attribute the work as follows: *Thomas Schreck, IT-Sicherheit*."
   ]
  },
  {
   "cell_type": "code",
   "execution_count": null,
   "id": "63d3077f",
   "metadata": {},
   "outputs": [],
   "source": []
  }
 ],
 "metadata": {
  "kernelspec": {
   "display_name": "Python 3 (ipykernel)",
   "language": "python",
   "name": "python3"
  },
  "language_info": {
   "codemirror_mode": {
    "name": "ipython",
    "version": 3
   },
   "file_extension": ".py",
   "mimetype": "text/x-python",
   "name": "python",
   "nbconvert_exporter": "python",
   "pygments_lexer": "ipython3",
   "version": "3.10.3"
  }
 },
 "nbformat": 4,
 "nbformat_minor": 5
}
